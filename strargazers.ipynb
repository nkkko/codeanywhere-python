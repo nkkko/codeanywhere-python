{
 "cells": [
  {
   "cell_type": "markdown",
   "metadata": {},
   "source": [
    "# GitHub Stars Analysis for `daytonaio/daytona`\n",
    "This Jupyter notebook analyses the GitHub star data for the `daytonaio/daytona` repository. It covers collection, temporal analysis, user demographics, engagement metrics, and data visualization.\n"
   ]
  },
  {
   "cell_type": "code",
   "execution_count": 2,
   "metadata": {},
   "outputs": [
    {
     "ename": "ModuleNotFoundError",
     "evalue": "No module named 'requests'",
     "output_type": "error",
     "traceback": [
      "\u001b[0;31m---------------------------------------------------------------------------\u001b[0m",
      "\u001b[0;31mModuleNotFoundError\u001b[0m                       Traceback (most recent call last)",
      "\u001b[1;32m/workspaces/codeanywhere-python/strargazers.ipynb Cell 2\u001b[0m line \u001b[0;36m2\n\u001b[1;32m      <a href='vscode-notebook-cell://nkkko-codeanywhere-pytho-9thh1ycue0.app.codeanywhere.com/workspaces/codeanywhere-python/strargazers.ipynb#W2sdnNjb2RlLXJlbW90ZQ%3D%3D?line=0'>1</a>\u001b[0m \u001b[39m# Importing necessary libraries\u001b[39;00m\n\u001b[0;32m----> <a href='vscode-notebook-cell://nkkko-codeanywhere-pytho-9thh1ycue0.app.codeanywhere.com/workspaces/codeanywhere-python/strargazers.ipynb#W2sdnNjb2RlLXJlbW90ZQ%3D%3D?line=1'>2</a>\u001b[0m \u001b[39mimport\u001b[39;00m \u001b[39mrequests\u001b[39;00m\n\u001b[1;32m      <a href='vscode-notebook-cell://nkkko-codeanywhere-pytho-9thh1ycue0.app.codeanywhere.com/workspaces/codeanywhere-python/strargazers.ipynb#W2sdnNjb2RlLXJlbW90ZQ%3D%3D?line=2'>3</a>\u001b[0m \u001b[39mimport\u001b[39;00m \u001b[39mpandas\u001b[39;00m \u001b[39mas\u001b[39;00m \u001b[39mpd\u001b[39;00m\n\u001b[1;32m      <a href='vscode-notebook-cell://nkkko-codeanywhere-pytho-9thh1ycue0.app.codeanywhere.com/workspaces/codeanywhere-python/strargazers.ipynb#W2sdnNjb2RlLXJlbW90ZQ%3D%3D?line=3'>4</a>\u001b[0m \u001b[39mimport\u001b[39;00m \u001b[39mnumpy\u001b[39;00m \u001b[39mas\u001b[39;00m \u001b[39mnp\u001b[39;00m\n",
      "\u001b[0;31mModuleNotFoundError\u001b[0m: No module named 'requests'"
     ]
    }
   ],
   "source": [
    "# Importing necessary libraries\n",
    "import requests\n",
    "import pandas as pd\n",
    "import numpy as np\n",
    "import matplotlib.pyplot as plt\n",
    "import plotly.express as px\n",
    "import seaborn as sns\n",
    "from datetime import datetime, timedelta\n",
    "import networkx as nx\n",
    "\n",
    "# Load environment variables\n",
    "import os\n",
    "from dotenv import load_dotenv\n",
    "\n",
    "load_dotenv()\n",
    "\n",
    "# API token for accessing GitHub API\n",
    "GITHUB_TOKEN = os.getenv('GITHUB_TOKEN')\n",
    "HEADERS = {'Authorization': f'token {GITHUB_TOKEN}'}\n",
    "\n",
    "# Set up matplotlib\n",
    "plt.style.use('ggplot')\n"
   ]
  },
  {
   "cell_type": "markdown",
   "metadata": {},
   "source": [
    "## Data Collection\n",
    "We will collect stargazer data using the GitHub API. To handle rate limits, we will implement batch processing and store data in a CSV file.\n"
   ]
  },
  {
   "cell_type": "code",
   "execution_count": null,
   "metadata": {},
   "outputs": [],
   "source": [
    "# Function to fetch stargazer data\n",
    "def fetch_stargazer_data(owner, repo):\n",
    "    url = f\"https://api.github.com/repos/{owner}/{repo}/stargazers\"\n",
    "    page = 1\n",
    "    stargazer_data = []\n",
    "\n",
    "    while True:\n",
    "        response = requests.get(url, headers=HEADERS, params={'per_page': 100, 'page': page})\n",
    "        data = response.json()\n",
    "        \n",
    "        if not data or response.status_code != 200:\n",
    "            break\n",
    "        \n",
    "        # Append user data to list\n",
    "        for entry in data:\n",
    "            stargazer_data.append({\n",
    "                'user': entry['user']['login'],\n",
    "                'starred_at': entry['starred_at'],\n",
    "                'user_type': entry['user']['type'],\n",
    "                'site_admin': entry['user']['site_admin'],\n",
    "                'followers_url': entry['user']['followers_url'],\n",
    "                'following_url': entry['user']['following_url'].replace('{/other_user}', ''),\n",
    "                'repos_url': entry['user']['repos_url'],\n",
    "                'gists_url': entry['user']['gists_url']\n",
    "            })\n",
    "        \n",
    "        page += 1\n",
    "\n",
    "    # Save collected data to CSV\n",
    "    pd.DataFrame(stargazer_data).to_csv('stargazers.csv', index=False)\n",
    "    return pd.DataFrame(stargazer_data)\n",
    "\n",
    "# Fetch data for the daytonaio/daytona repository\n",
    "stargazers_df = fetch_stargazer_data('daytonaio', 'daytona')\n"
   ]
  },
  {
   "cell_type": "markdown",
   "metadata": {},
   "source": [
    "## Temporal Analysis\n",
    "We analyze the star growth over time: daily, weekly, and monthly trends.\n"
   ]
  },
  {
   "cell_type": "code",
   "execution_count": null,
   "metadata": {},
   "outputs": [],
   "source": [
    "# Parse dates\n",
    "stargazers_df['starred_at'] = pd.to_datetime(stargazers_df['starred_at'])\n",
    "\n",
    "# Daily, Weekly, and Monthly analysis\n",
    "stargazers_df['day'] = stargazers_df['starred_at'].dt.date\n",
    "stargazers_df['week'] = stargazers_df['starred_at'].dt.to_period('W').apply(lambda r: r.start_time)\n",
    "stargazers_df['month'] = stargazers_df['starred_at'].dt.to_period('M').apply(lambda r: r.start_time)\n",
    "\n",
    "daily_stars = stargazers_df.groupby('day').size()\n",
    "weekly_stars = stargazers_df.groupby('week').size()\n",
    "monthly_stars = stargazers_df.groupby('month').size()\n"
   ]
  },
  {
   "cell_type": "markdown",
   "metadata": {},
   "source": [
    "## User Demographics\n",
    "Analyze user demographics based on 'Type' and 'Site Admin' status.\n"
   ]
  },
  {
   "cell_type": "code",
   "execution_count": null,
   "metadata": {},
   "outputs": [],
   "source": [
    "# User demographic analysis\n",
    "user_type_distribution = stargazers_df['user_type'].value_counts()\n",
    "site_admin_distribution = stargazers_df['site_admin'].value_counts()\n"
   ]
  },
  {
   "cell_type": "markdown",
   "metadata": {},
   "source": [
    "## User Engagement Metrics\n",
    "Analyzing followers/following patterns using API data.\n"
   ]
  },
  {
   "cell_type": "code",
   "execution_count": null,
   "metadata": {},
   "outputs": [],
   "source": [
    "def fetch_follow_data(url_list):\n",
    "    counts = []\n",
    "    for url in url_list:\n",
    "        response = requests.get(url, headers=HEADERS)\n",
    "        if response.status_code == 200:\n",
    "            counts.append(len(response.json()))\n",
    "        else:\n",
    "            counts.append(np.nan)\n",
    "    return counts\n",
    "\n",
    "# Fetching followers/following data\n",
    "stargazers_df['followers_count'] = fetch_follow_data(stargazers_df['followers_url'])\n",
    "stargazers_df['following_count'] = fetch_follow_data(stargazers_df['following_url'])\n"
   ]
  },
  {
   "cell_type": "markdown",
   "metadata": {},
   "source": [
    "## Data Visualization\n",
    "Visualize star growth, user distributions, and interaction heatmaps.\n"
   ]
  },
  {
   "cell_type": "code",
   "execution_count": null,
   "metadata": {},
   "outputs": [],
   "source": [
    "# Daily/weekly/monthly growth time series\n",
    "fig_daily = px.line(daily_stars, title='Daily Star Growth')\n",
    "fig_daily.show()\n",
    "\n",
    "fig_weekly = px.line(weekly_stars, title='Weekly Star Growth')\n",
    "fig_weekly.show()\n",
    "\n",
    "fig_monthly = px.line(monthly_stars, title='Monthly Star Growth')\n",
    "fig_monthly.show()\n",
    "\n",
    "# User type distribution pie chart\n",
    "fig_user_type = px.pie(user_type_distribution, names=user_type_distribution.index, values=user_type_distribution.values, title='User Type Distribution')\n",
    "fig_user_type.show()\n",
    "\n",
    "# Heatmaps for time-of-day and day-of-week starring patterns\n",
    "stargazers_df['hour'] = stargazers_df['starred_at'].dt.hour\n",
    "stargazers_df['weekday'] = stargazers_df['starred_at'].dt.weekday\n",
    "\n",
    "hour_weekday_heatmap = stargazers_df.pivot_table(index='weekday', columns='hour', values='user', aggfunc='count')\n",
    "sns.heatmap(hour_weekday_heatmap, cmap='YlGnBu', annot=True, fmt='d')\n",
    "plt.title('Starring Patterns by Time and Day')\n",
    "plt.xlabel('Hour of the Day')\n",
    "plt.ylabel('Day of the Week')\n",
    "plt.show()\n"
   ]
  },
  {
   "cell_type": "markdown",
   "metadata": {},
   "source": [
    "## Network Graph of User Connections\n",
    "(Optional) Visualize a subset of the network graph of user connections based on followers.\n"
   ]
  },
  {
   "cell_type": "code",
   "execution_count": null,
   "metadata": {},
   "outputs": [],
   "source": [
    "# Create network graph for user connections\n",
    "G = nx.Graph()\n",
    "\n",
    "# Limit the number of nodes for visualization\n",
    "limited_df = stargazers_df.head(30)\n",
    "\n",
    "for _, row in limited_df.iterrows():\n",
    "    G.add_node(row['user'])\n",
    "    followers_data = requests.get(row['followers_url'], headers=HEADERS).json()\n",
    "    \n",
    "    if isinstance(followers_data, list):\n",
    "        for follower in followers_data:\n",
    "            G.add_node(follower['login'])\n",
    "            G.add_edge(row['user'], follower['login'])\n",
    "\n",
    "# Draw the graph\n",
    "nx.draw_networkx(G, with_labels=False, node_size=50)\n",
    "plt.title(\"User Connections Graph\")\n",
    "plt.show()\n"
   ]
  },
  {
   "cell_type": "markdown",
   "metadata": {},
   "source": [
    "## Cross-referencing User Activity\n",
    "Analyze user activity patterns by cross-referencing with public repositories and gists.\n"
   ]
  },
  {
   "cell_type": "code",
   "execution_count": null,
   "metadata": {},
   "outputs": [],
   "source": [
    "def fetch_repo_data(url_list):\n",
    "    repo_counts = []\n",
    "    for url in url_list:\n",
    "        response = requests.get(url, headers=HEADERS)\n",
    "        if response.status_code == 200:\n",
    "            repo_counts.append(len(response.json()))\n",
    "        else:\n",
    "            repo_counts.append(np.nan)\n",
    "    return repo_counts\n",
    "\n",
    "def fetch_gist_data(url_list):\n",
    "    gist_counts = []\n",
    "    for url in url_list:\n",
    "        response = requests.get(url, headers=HEADERS)\n",
    "        if response.status_code == 200:\n",
    "            gist_counts.append(len(response.json()))\n",
    "        else:\n",
    "            gist_counts.append(np.nan)\n",
    "    return gist_counts\n",
    "\n",
    "# Fetch repositories and gists counts\n",
    "stargazers_df['repos_count'] = fetch_repo_data(stargazers_df['repos_url'])\n",
    "stargazers_df['gists_count'] = fetch_gist_data(stargazers_df['gists_url'])\n"
   ]
  }
 ],
 "metadata": {
  "kernelspec": {
   "display_name": "Python 3",
   "language": "python",
   "name": "python3"
  },
  "language_info": {
   "codemirror_mode": {
    "name": "ipython",
    "version": 3
   },
   "file_extension": ".py",
   "mimetype": "text/x-python",
   "name": "python",
   "nbconvert_exporter": "python",
   "pygments_lexer": "ipython3",
   "version": "3.10.12"
  }
 },
 "nbformat": 4,
 "nbformat_minor": 2
}
